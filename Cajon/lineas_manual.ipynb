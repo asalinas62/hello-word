{
 "cells": [
  {
   "cell_type": "markdown",
   "metadata": {},
   "source": [
    "# Paquete `lineas.py`\n",
    "A. Salinas. TO 18-19."
   ]
  },
  {
   "cell_type": "code",
   "execution_count": 1,
   "metadata": {
    "collapsed": true
   },
   "outputs": [],
   "source": [
    "import numpy as np\n",
    "import matplotlib.pyplot as plt"
   ]
  },
  {
   "cell_type": "markdown",
   "metadata": {},
   "source": [
    "Se importan los paquetes `numpy` para el cálculo científico, y `matplotlib.pyplot` para la representación gráfica. Los diferentes métodos de los paquetes se nombran con los alias `np` y `plt`."
   ]
  },
  {
   "cell_type": "markdown",
   "metadata": {},
   "source": [
    "## Constantes"
   ]
  },
  {
   "cell_type": "code",
   "execution_count": 2,
   "metadata": {
    "collapsed": true
   },
   "outputs": [],
   "source": [
    "pi=np.pi  \n",
    "Np2db=20.*np.log10(np.e)\n",
    "Db2np=1./Np2db\n",
    "D2r=pi/180.\n",
    "R2d=180./pi"
   ]
  },
  {
   "cell_type": "markdown",
   "metadata": {},
   "source": [
    "Se define una serie de variables que se suelen usar:\n",
    "\n",
    "* `pi` define el número $\\pi$\n",
    "* `Np2db` define la conversión de Neper a dB\n",
    "* `Db2np` el inverso del anterior\n",
    "* `D2r` y `R2d` conversión de grados a radianes y viceversa"
   ]
  },
  {
   "cell_type": "markdown",
   "metadata": {},
   "source": [
    "## Funciones `print`"
   ]
  },
  {
   "cell_type": "markdown",
   "metadata": {},
   "source": [
    "Las funciones para mostrar por pantalla con un formato amigable son: `Pr, Prc, Prv`:"
   ]
  },
  {
   "cell_type": "code",
   "execution_count": 3,
   "metadata": {
    "collapsed": true
   },
   "outputs": [],
   "source": [
    "def Pr(lis):\n",
    "    \"\"\"\n",
    "    Imprime la lista de reales: Pr((pi,))\n",
    "    Usa diferentes lineas. Formato 0:9.2E\n",
    "    \"\"\"\n",
    "    for i in lis:\n",
    "        print('{0:9.2E}'.format(i)) \n",
    "\n",
    "def Prc(co,va):\n",
    "    \"\"\"\n",
    "    Imprime la lista de cabeceras y de reales: \n",
    "    Pr(('Pi',),(pi,))\n",
    "    Usa diferentes lineas. Formato 0:9.2E\n",
    "    \"\"\"\n",
    "    for i, ca in enumerate(co):\n",
    "        print(ca+'='+'{0:9.2E}'.format(va[i]))        \n",
    "        \n",
    "def Prv(co,va):\n",
    "    \"\"\"\n",
    "    Imprime una cabecera y la lista de reales: \n",
    "    Pr(('Val',),(1.,2.,3.))\n",
    "    Usa una sola linea. Formato 0:9.2E\n",
    "    \"\"\"\n",
    "    print(co+'=',end='')\n",
    "    for i in va:\n",
    "        print('{0:9.2E}'.format(i),end='')\n",
    "    print()"
   ]
  },
  {
   "cell_type": "markdown",
   "metadata": {},
   "source": [
    "Sirven para escribir la salida al formato científico con dos cifras decimales. La entrada es una lista o una tupla. Para un solo número hay que escribir `Pr((pi,))`."
   ]
  },
  {
   "cell_type": "code",
   "execution_count": 4,
   "metadata": {},
   "outputs": [
    {
     "name": "stdout",
     "output_type": "stream",
     "text": [
      " 3.14E+00\n",
      " 8.69E+00\n",
      " 1.15E-01\n",
      " 1.75E-02\n",
      " 5.73E+01\n"
     ]
    }
   ],
   "source": [
    "Pr((pi,Np2db,Db2np,D2r,R2d))"
   ]
  },
  {
   "cell_type": "code",
   "execution_count": 5,
   "metadata": {},
   "outputs": [
    {
     "name": "stdout",
     "output_type": "stream",
     "text": [
      "Np a dB= 8.69E+00\n",
      "dB a Np= 1.15E-01\n",
      "Angulos= 3.14E+00 9.00E+01 1.57E+00\n"
     ]
    }
   ],
   "source": [
    "Prc(('Np a dB','dB a Np'),(Np2db,Db2np))\n",
    "Prv('Angulos',[180*D2r,pi/2.*R2d,90*D2r])"
   ]
  },
  {
   "cell_type": "markdown",
   "metadata": {},
   "source": [
    "## Complejos en cartesianas y en polares"
   ]
  },
  {
   "cell_type": "code",
   "execution_count": 6,
   "metadata": {
    "collapsed": true
   },
   "outputs": [],
   "source": [
    "def C2p(x):\n",
    "    \"\"\"\n",
    "    Complejo a tupla de polares.\n",
    "    \"\"\"\n",
    "    return (np.abs(x),np.angle(x))\n",
    "\n",
    "def C2pD(x):\n",
    "    \"\"\"\n",
    "    Complejo a tupla de polares \n",
    "    con fase en grados.\n",
    "    \"\"\"\n",
    "    return (np.abs(x),np.angle(x)*R2d)\n",
    "\n",
    "def P2c(r,th):\n",
    "    \"\"\"\n",
    "    Tupla de polares a tupla de cartesianas.\n",
    "    \"\"\"\n",
    "    return (r*np.cos(th),r*np.sin(th))\n",
    "\n",
    "def P2cD(r,th):\n",
    "    \"\"\"\n",
    "    Tupla de polares con fase en grados \n",
    "    a tupla de cartesianas.\n",
    "    \"\"\"\n",
    "    thr=th*D2r\n",
    "    return P2c(r,thr)"
   ]
  },
  {
   "cell_type": "markdown",
   "metadata": {},
   "source": [
    "Estas funciones sirven para la conversión entre cartesianas y polares. Resultan de mucha utilidad en la aritmética habitual de los problemas de líneas.\n",
    "\n",
    "* `C2p(x)` devuelve el par correspondiente a módulo y fase del número complejo `x`\n",
    "* `C2pD(x)` es igual que `C2p(x)` pero el argumento lo devuelve en grados\n",
    "* `P2c(x)` y `P2cD(x)` hacen el mismo trabajo desde polares a cartesianas\n",
    "Las funciones devuelven la salida en forma de tupla: `(val1,val2)`."
   ]
  },
  {
   "cell_type": "code",
   "execution_count": 7,
   "metadata": {
    "scrolled": true
   },
   "outputs": [
    {
     "name": "stdout",
     "output_type": "stream",
     "text": [
      "1+1j en polares es:= 1.41E+00 7.85E-01\n",
      "1+1j en polares (fase en grados) es:= 1.41E+00 4.50E+01\n",
      "Parte real de (1,Pi/4 radianes)= 7.07E-01\n",
      "Parte imaginaria de (1,Pi/4 radianes)= 7.07E-01\n",
      "Parte real de (1,45 grados)= 7.07E-01\n",
      "Parte imaginaria de (1,45 grados)= 7.07E-01\n"
     ]
    }
   ],
   "source": [
    "co=1+1j # Un numero complejo\n",
    "# Modulo y fase (en radianes) de un numero complejo\n",
    "poco=(1,45*D2r) \n",
    "# Modulo y fase (en grados) de un numero complejo\n",
    "pocoD=(1,45)  \n",
    "Prv('1+1j en polares es:',C2p(co))\n",
    "Prv('1+1j en polares (fase en grados) es:',C2pD(co))\n",
    "Prc(('Parte real de (1,Pi/4 radianes)',\\\n",
    "     'Parte imaginaria de (1,Pi/4 radianes)'),(*P2c(*poco),))\n",
    "Prc(('Parte real de (1,45 grados)',\\\n",
    "     'Parte imaginaria de (1,45 grados)'),(*P2cD(*pocoD),))"
   ]
  },
  {
   "cell_type": "markdown",
   "metadata": {},
   "source": [
    "## Funciones propias de las líneas"
   ]
  },
  {
   "cell_type": "code",
   "execution_count": 9,
   "metadata": {
    "collapsed": true
   },
   "outputs": [],
   "source": [
    "def Gr(zl,z0):\n",
    "    \"\"\"\n",
    "    Coeficiente de reflexion en la carga.\n",
    "    Impedancia de carga e impedancia intrinseca. \n",
    "    Complejas.\n",
    "    \"\"\"\n",
    "    return (zl-z0)/(zl+z0)\n",
    "\n",
    "def Zw(zp,zl,z0,coe):\n",
    "    \"\"\"\n",
    "    Impedancia de onda. Caso con perdidas.\n",
    "    (zp,zl,z0,const. de propagacion, complejo).\n",
    "    \"\"\"\n",
    "    zw=z0*(zl+z0*np.tanh(coe*zp))/(z0+zl*np.tanh(coe*zp))\n",
    "    return zw\n",
    "\n",
    "def ZwSP(zp,zl,z0,be):\n",
    "    \"\"\"\n",
    "    Impedancia de onda. Caso sin perdidas.\n",
    "    (zp,zl,z0,const. fase).\n",
    "    \"\"\"\n",
    "    zw=z0*(zl+z0*1.j*np.tan(be*zp))/(z0+zl*1.j*np.tan(be*zp))\n",
    "    return zw\n"
   ]
  },
  {
   "cell_type": "markdown",
   "metadata": {},
   "source": [
    "Estas funciones sirven para calcular el coeficiente de reflexión en la carga, $\\Gamma_L$, la impedancia de la onda en cada punto de la línea $z'$, $Z_w(z')$ y esta misma magnitud para el caso de una línea sin pérdidas.\n",
    "\n",
    "Las variables son:\n",
    "\n",
    "* `zp` es la posición en la línea a partir de la carga. Es positiva.\n",
    "* `zl` es la impedancia de carga en $\\Omega$\n",
    "* `z0` es la impedancia intrínseca de la línea\n",
    "* `coe` o `be` es el coeficiente de propagación o el coeficiente de fase respectivamente.\n",
    "\n",
    "Todas las funciones devuelven el valor en la forma cartesiana del complejo correspondiente."
   ]
  },
  {
   "cell_type": "markdown",
   "metadata": {},
   "source": [
    "### Ejemplo:"
   ]
  },
  {
   "cell_type": "markdown",
   "metadata": {},
   "source": [
    "Tengamos una línea con una impedancia característica de 75 $\\Omega$, velocidad de fase $v_f=2.5 \\times 10^8$ $m/s$ y longitud de 1 m. La impedancia de carga es $Z_L = 80 + \\jmath 45$ $\\Omega$. Se alimenta con un generador cuya frecuencia es de 300 MHz, suministra 10 V y tiene una impedancia interna de 50 $\\Omega$. Determinar la potencia suministrada por el generador y voltaje e intensidad en la línea."
   ]
  },
  {
   "cell_type": "code",
   "execution_count": 10,
   "metadata": {},
   "outputs": [
    {
     "name": "stdout",
     "output_type": "stream",
     "text": [
      "Beta(rad/m)= 7.54E+00\n",
      "GammaL=1.07E-01+2.59E-01j\n",
      "|GammaL|= 2.81E-01\n",
      "Fase(grados)= 6.75E+01\n"
     ]
    }
   ],
   "source": [
    "z0=75.\n",
    "vf=2.5E8\n",
    "ll=1.\n",
    "zl=80.+1.j*45\n",
    "zln=zl/z0\n",
    "f=300.E6\n",
    "vg=10.\n",
    "zg=50.\n",
    "w=2.*np.pi*f\n",
    "beta=w/vf\n",
    "londa=2.*np.pi/beta\n",
    "gammaL=Gr(zl,z0)\n",
    "Prc(('Beta(rad/m)', 'GammaL','|GammaL|','Fase(grados)'),\\\n",
    "    (beta,gammaL,np.abs(gammaL),np.angle(gammaL)*R2d))"
   ]
  },
  {
   "cell_type": "markdown",
   "metadata": {},
   "source": [
    "Ahora podemos calcular el voltaje y la intensidad a la entrada de la línea, $V_{0}$, $I_{0}$. Para ello hacemos uso de la impedancia a la entrada de la línea, $Z_{in}=Z_W(z'=l)$. El circuito equivalente es un divisor de tensión formado por el generador, su impedancia y la impedancia de entrada de la línea.\n",
    "\n",
    "La intensidad que circula por el generador y a la entrada de la línea vendrá dada por $I_{0}=\\frac{V_g}{Z_g+Z_{in}}$, y el voltaje a la entrada será $V_{0}=Z_{in} I_{0}$.\n",
    "\n",
    "Estos cálculos se hacen de forma inmediata:"
   ]
  },
  {
   "cell_type": "code",
   "execution_count": 11,
   "metadata": {
    "scrolled": true
   },
   "outputs": [
    {
     "name": "stdout",
     "output_type": "stream",
     "text": [
      "Zin=7.29E+01-4.32E+01j\n",
      "I0=7.24E-02+2.54E-02j\n",
      "|I0|= 7.68E-02\n",
      "Fase(I0)(grados)= 1.94E+01\n",
      "V0=6.38E+00-1.27E+00j\n",
      "|V0|= 6.50E+00\n",
      "Fase(V0)(grados)=-1.13E+01\n"
     ]
    }
   ],
   "source": [
    "zin=ZwSP(ll,zl,z0,beta)\n",
    "i0=vg/(zin+zg)\n",
    "v0=zin*i0\n",
    "Prc(('Zin','I0','|I0|','Fase(I0)(grados)','V0',\\\n",
    "     '|V0|','Fase(V0)(grados)'),\\\n",
    "   (zin,i0,abs(i0),np.angle(i0)*R2d,v0,abs(v0),\\\n",
    "    np.angle(v0)*R2d ))"
   ]
  },
  {
   "cell_type": "markdown",
   "metadata": {},
   "source": [
    "Para la función `Zw`, hay que indicar $\\gamma$ en lugar de $\\beta$."
   ]
  },
  {
   "cell_type": "markdown",
   "metadata": {},
   "source": [
    "## Funciones específicas de la carta de Smith"
   ]
  },
  {
   "cell_type": "code",
   "execution_count": 12,
   "metadata": {
    "collapsed": true
   },
   "outputs": [],
   "source": [
    "## Funciones generales de dibujo\n",
    "def punto(x,y,c='k',marker='.'):\n",
    "    \"\"\"\n",
    "    (x,y,c='k',marker='.'\n",
    "    Dibuja un punto en las coordenadas cartesianas x, y.\n",
    "    Color y marker(x,+,*,s,v).\n",
    "    \"\"\"\n",
    "    ax=plt.subplot(111)  # Todo el paquete dibuja en ax\n",
    "    ax.scatter(x,y,c=c,marker=marker)\n",
    "\n",
    "def arco(r,thi,thf,c='k',ls='-',lw=1):\n",
    "    \"\"\"\n",
    "    (r,thi,thf,c='k',ls='-',lw=1)\n",
    "    Dibuja un arco de radio r desde thi rad hasta thf rad.\n",
    "    Color, trazado('--',':','-.') y grueso.\n",
    "    \"\"\"\n",
    "    ax=plt.subplot(111)\n",
    "    thes=np.linspace(thi,thf,100) # Lista de angulos \n",
    "    xsar=r*np.cos(thes)  # Proyeccion al eje x\n",
    "    ysar=r*np.sin(thes)  # Proyeccion al eje y\n",
    "    # Punto inicial de la flecha: desde el valor -3, dx, dy\n",
    "    flecha=(xsar[-3],ysar[-3],xsar[-1]-xsar[-3],\\\n",
    "            ysar[-1]-ysar[-3])\n",
    "    ax.plot(xsar,ysar,c=c,ls=ls,lw=lw)\n",
    "    # Se dibuja la flecha con los valores normales\n",
    "    ax.arrow(*flecha,head_width=0.05, head_length=0.1,\\\n",
    "             fc=c,ec=c,length_includes_head=True)\n",
    "    \n",
    "def circulo(r,c='k',ls='-',lw=1):\n",
    "    \"\"\"\n",
    "    (r,c='k',ls='-',lw=1)\n",
    "    Circulo de radio r.\n",
    "    Color, trazado('--',':','-.') y grueso.\n",
    "    \"\"\"\n",
    "    ax=plt.subplot(111)\n",
    "    thes=np.linspace(0,2.*np.pi,300)\n",
    "    xsar=r*np.cos(thes)\n",
    "    ysar=r*np.sin(thes)\n",
    "    ax.plot(xsar,ysar,c=c,ls=ls,lw=lw)\n",
    "\n",
    "def linea(px1,py1,px2,py2,c='k',ls='-',lw=1):\n",
    "    \"\"\"\n",
    "    (px1,py1,px2,py2,c='k',ls='-',lw=1)\n",
    "    Linea desde (px1,py1) hasta (px2,py2).\n",
    "    Color, trazado('--',':','-.') y grueso.\n",
    "    \"\"\"\n",
    "    ax=plt.subplot(111)\n",
    "    ax.plot([px1,px2],[py1,py2],c=c,ls=ls,lw=lw)\n"
   ]
  },
  {
   "cell_type": "markdown",
   "metadata": {},
   "source": [
    "Las funciones específicas de dibujo son: un punto, un arco de circunferencia, un círculo y una línea. \n",
    "Para el arco se especifica el radio, el valor de $\\theta$ inicial y final. Se añade al arco una flecha indicando el sentido de recorrido. \n",
    "Para el círculo se especifica el radio y el color, y para la línea las coordenadas cartesianas iniciales y finales.\n",
    "Si no se especifica color, se dibuja negro. Los colores posibles  son 'r' rojo, 'y' amarillo, 'g' green, 'c' cian, 'm' magenta, 'b' azul, 'g' verde, 'k' negro, 'w' blanco.  \n",
    "También se puede especificar el trazo y el grosor de la línea.\n",
    "\n",
    "\n",
    "Las funciones `linear` y `cirr`, que se definen a continuación, sirven para generar los puntos y dibujar, respectivamente, el círculo `r`, mientras que `lineax` y `cirx` sirven para generar los puntos y dibujar, respectivamente, el círculo `x`."
   ]
  },
  {
   "cell_type": "code",
   "execution_count": 14,
   "metadata": {
    "collapsed": true
   },
   "outputs": [],
   "source": [
    "# Funciones para la carta de Smith\n",
    "def linear(r):\n",
    "    \"\"\"\n",
    "    Coordenadas del circulo de resistencia r \n",
    "    en la carta de Smith\n",
    "    \"\"\"\n",
    "    # Valores de r\n",
    "    rs=np.ones(3000,dtype=float)*r \n",
    "    # Valores de x\n",
    "    xs=np.linspace(-100,100,3000,dtype=float) \n",
    "    impes=rs+1.j*xs  # Impedancias normalizadas\n",
    "    # Coeficientes de reflexion\n",
    "    gams=(impes-1)/(impes+1)  \n",
    "    xsgams=gams.real  # Coordenadas x\n",
    "    ysgams=gams.imag  # Coordenadas y\n",
    "    return (xsgams,ysgams)\n",
    "def lineax(x):\n",
    "    \"\"\"\n",
    "    Coordenadas del circulo de reactancia x \n",
    "    en la carta de Smith\n",
    "    \"\"\"\n",
    "    xs=np.ones(3000,dtype=float)*x\n",
    "    rs=np.linspace(0,100,3000,dtype=float)\n",
    "    impes=rs+1.j*xs\n",
    "    gams=(impes-1)/(impes+1)\n",
    "    xsgams=gams.real\n",
    "    ysgams=gams.imag\n",
    "    return (xsgams,ysgams)\n",
    "\n",
    "def cirx(x,c='k',ls='-',lw=1):\n",
    "    \"\"\"\n",
    "    (x,c='k',ls='-',lw=1)\n",
    "    Dibuja el circulo de reactancia x \n",
    "    en la carta de Smith.\n",
    "    Color, trazado('--',':','-.') y grueso.\n",
    "    \"\"\"\n",
    "    ax=plt.subplot(111)\n",
    "    ax.plot(*lineax(x),c=c,ls=ls,lw=lw)\n",
    "\n",
    "def cirr(r,c='k',ls='-',lw=1):\n",
    "    \"\"\"\n",
    "    (r,c='k',ls='-',lw=1)\n",
    "    Dibuja el circulo de resistencia r \n",
    "    en la carta de Smith.\n",
    "    Color, trazado('--',':','-.') y grueso.\n",
    "    \"\"\"\n",
    "    ax=plt.subplot(111)\n",
    "    ax.plot(*linear(r),c=c,ls=ls,lw=lw)\n",
    "    "
   ]
  },
  {
   "cell_type": "markdown",
   "metadata": {},
   "source": [
    "La función `inicia()` dibuja el esquema de la carta de Smith para poder hacer las representaciones gráficas necesarias. "
   ]
  },
  {
   "cell_type": "code",
   "execution_count": 15,
   "metadata": {
    "collapsed": true
   },
   "outputs": [],
   "source": [
    "def inicia():\n",
    "    thetas=np.linspace(0,2*np.pi,500)\n",
    "    xscir=1.0*np.cos(thetas) \n",
    "    yscir=1.0*np.sin(thetas)\n",
    "    ax=plt.subplot(111)\n",
    "    ax.axis('equal')\n",
    "    ax.axis('off')\n",
    "    # Circulo unidad\n",
    "    ax.plot(xscir,yscir,'k')  \n",
    "    # x [-1,-0.8,-0.6,...,0.8]\n",
    "    xlis1=np.arange(-1,1,0.2) \n",
    "    # x [-5,-4,...,4,5]\n",
    "    xlis2=np.arange(-5,6,dtype=int) \n",
    "    # r [0,0.2,...0.8]\n",
    "    rlis1=np.arange(0,1,0.2)  \n",
    "    # r [0,1,2,...,5]\n",
    "    rlis2=np.arange(0,6,dtype=int)  \n",
    "    # Dibuja los circulos anteriores\n",
    "    for i in xlis1:\n",
    "        ax.plot(*lineax(i),'r',lw=0.5,ls=':')\n",
    "    for i in xlis2:\n",
    "        ax.plot(*lineax(i),'r',lw=0.5,ls=':')\n",
    "    for i in rlis1:\n",
    "        ax.plot(*linear(i),'b',lw=0.5,ls='--')\n",
    "    for i in rlis2:\n",
    "        ax.plot(*linear(i),'b',lw=0.5,ls='--')\n",
    "        "
   ]
  },
  {
   "cell_type": "markdown",
   "metadata": {},
   "source": [
    "A continuación hacemos la representación en la carta de Smith de la impedancia de carga del ejemplo. \n",
    "Veamos cómo hemos definido las diferentes funciones que hacen la representación gráfica:\n",
    "\n",
    "* `fig=plt.figure()` inicia una gráfica, `fig`, y le asigna las sucesivas componentes de la gráfica\n",
    "* `fig.set_size_inches(5.7,5.7)` sirve para darle un tamaño apropiado\n",
    "* `inicia()` es la llamada al esquema de la carta de Smith \n",
    "* `punto(gammaL.real,gammaL.imag,c='k')` usa las coordenadas cartesianas de $\\Gamma_L$\n",
    "* `circulo(np.abs(gammaL),'y')` usa como radio del círculo $|\\Gamma_L|$\n",
    "* `cirr(zln.real,c='b')` para representar el círculo de `r`\n",
    "* `cirx(zln.imag,c='r')` para representar el círculo de `x`\n",
    "* `linea(0,0,*P2c(1.1,np.angle(gammaL)),'y')` utiliza como coordenadas del punto final las coordenadas cartesianas correspondientes a las coordenadas polares $\\rho=1.1$ y $\\theta=\\theta_{\\Gamma_L}$\n",
    "* `arco(1.1,0,np.angle(gammaL),c='y')` traza el arco exterior usando un radio algo mayor que 1 y con una distancia angular que va desde 0 radianes hasta la fase de $\\Gamma_L$"
   ]
  },
  {
   "cell_type": "code",
   "execution_count": 21,
   "metadata": {},
   "outputs": [
    {
     "data": {
      "image/png": "[encoded data removed]",
      "text/plain": [
       "<matplotlib.figure.Figure at 0x10fe79be0>"
      ]
     },
     "metadata": {},
     "output_type": "display_data"
    }
   ],
   "source": [
    "fig=plt.figure()\n",
    "fig.set_size_inches(5.7,5.7)\n",
    "inicia()\n",
    "punto(gammaL.real,gammaL.imag,c='k')\n",
    "cirr(zln.real,c='b')\n",
    "cirx(zln.imag,c='r')\n",
    "circulo(np.abs(gammaL),c='y')\n",
    "linea(0,0,*P2c(1.1,np.angle(gammaL)),c='y')\n",
    "arco(1.1,0,np.angle(gammaL),c='y')\n",
    "plt.show()"
   ]
  },
  {
   "cell_type": "markdown",
   "metadata": {},
   "source": [
    "## Funciones de cálculo numérico"
   ]
  },
  {
   "cell_type": "markdown",
   "metadata": {},
   "source": [
    "Utiliza la función `brentq(f,a,b)`, que se importa desde el paquete `scipy.optimize`, y determina un cero de la función `f` en el intervalo `[a,b]`.\n",
    "\n",
    "Se han definido dos funciones `Zwfc` e `Ywfc` según se trate de impedancias o admitancias. Los parámetros de ambas funciones son: impedancia de carga normalizada, `zln`, límites inferior y superior del intervalo de búsqueda, `a` y `b`, valor a encontrar, `c`, cadena con los valores `re` o `im` según queramos buscar en la parte real o imaginaria de la impedancia o admitancia. "
   ]
  },
  {
   "cell_type": "code",
   "execution_count": 16,
   "metadata": {
    "collapsed": true
   },
   "outputs": [],
   "source": [
    "# Funcion de calculo numerico de ceros\n",
    "# Se importa el metodo 'brentq'\n",
    "from scipy.optimize import brentq\n",
    "def Zwfc(zln,a,b,c,reim):\n",
    "    \"\"\"\n",
    "    (zln,a,b,c,reim)\n",
    "    Punto donde Z_w para zln vale c.\n",
    "    [a,b] intervalo de busqueda\n",
    "    reim='re', 'im'. Sin perdidas\n",
    "    \"\"\"\n",
    "    if reim=='re':\n",
    "        f=lambda x:c-(ZwSP(x,zln,1,2*pi)).real\n",
    "    elif reim=='im':\n",
    "        f=lambda x:c-(ZwSP(x,zln,1,2*pi)).imag\n",
    "    else:\n",
    "        print('Defina re o im')\n",
    "        return\n",
    "    z1=brentq(f,a,b)\n",
    "    return z1\n",
    "def Ywfc(zln,a,b,c,reim):\n",
    "    \"\"\"\n",
    "    (zln,a,b,c,reim)\n",
    "    Punto donde Y_w para zln vale c.\n",
    "    [a,b] intervalo de busqueda\n",
    "    reim='re', 'im'. Sin perdidas\n",
    "    \"\"\"\n",
    "    if reim=='re':\n",
    "        f=lambda x:c-(1/ZwSP(x,zln,1,2*pi)).real\n",
    "    elif reim=='im':\n",
    "        f=lambda x:c-(1/ZwSP(x,zln,1,2*pi)).imag\n",
    "    else:\n",
    "        print('Defina re o im')\n",
    "        return\n",
    "    z1=brentq(f,a,b)\n",
    "    return z1\n"
   ]
  },
  {
   "cell_type": "markdown",
   "metadata": {},
   "source": [
    "Para usar estas funciones hay que determinar primero, de forma gráfica, los intervalos de búsqueda.\n",
    "En la figura siguiente, se hace la representación gráfica de la admitancia en cada punto de la línea, tanto real como imaginaria (doble eje Y) y se determinan los cortes con la recta unidad."
   ]
  },
  {
   "cell_type": "code",
   "execution_count": 17,
   "metadata": {},
   "outputs": [
    {
     "data": {
      "image/png": "[encoded data removed]",
      "text/plain": [
       "<matplotlib.figure.Figure at 0x10da172e8>"
      ]
     },
     "metadata": {},
     "output_type": "display_data"
    }
   ],
   "source": [
    "# Representacion entre 0 y 1 lambda\n",
    "zps=np.linspace(0,1,200)  \n",
    "# Admitancias, zl normalizada, zin=1, be=2*pi\n",
    "ads=1/ZwSP(zps,zln,1,2*pi) \n",
    "unos=np.ones(200)  # La recta g=1\n",
    "plt.grid()\n",
    "plt.xlabel(r\"z'/$\\lambda$\")\n",
    "plt.ylabel('g')  \n",
    "# Representamos la conductancia normalizada\n",
    "l1=plt.plot(zps,ads.real,c='b') \n",
    "plt.plot(zps,unos)\n",
    "plt.twinx()\n",
    "# Representamos la susceptancia normalizada\n",
    "l2=plt.plot(zps,ads.imag,c='r')  \n",
    "plt.ylabel('b ')\n",
    "l12=l1+l2\n",
    "plt.legend(l12,['Re','Im'])\n",
    "plt.show()"
   ]
  },
  {
   "cell_type": "markdown",
   "metadata": {},
   "source": [
    "Podemos estimar un primer intervalo entre 0.2 y 0.3, y un segundo intervalo entre 0.4 y 0.5.\n",
    "Llamamos a la función `Ywfc` con los argumentos pertinentes y obtenemos los valores más exactos de corte con el valor 1. "
   ]
  },
  {
   "cell_type": "code",
   "execution_count": 26,
   "metadata": {},
   "outputs": [
    {
     "name": "stdout",
     "output_type": "stream",
     "text": [
      "Znst1= 2.41E-01\n",
      "Znst2= 4.46E-01\n"
     ]
    }
   ],
   "source": [
    "zn1=Ywfc(zln,0.2,0.3,1,'re')\n",
    "zn2=Ywfc(zln,0.4,0.5,1,'re')\n",
    "Prc(('Znst1','Znst2'),(zn1,zn2))"
   ]
  }
 ],
 "metadata": {
  "kernelspec": {
   "display_name": "Python 3",
   "language": "python",
   "name": "python3"
  },
  "language_info": {
   "codemirror_mode": {
    "name": "ipython",
    "version": 3
   },
   "file_extension": ".py",
   "mimetype": "text/x-python",
   "name": "python",
   "nbconvert_exporter": "python",
   "pygments_lexer": "ipython3",
   "version": "3.6.0"
  }
 },
 "nbformat": 4,
 "nbformat_minor": 2
}
