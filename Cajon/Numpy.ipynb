{
 "cells": [
  {
   "cell_type": "markdown",
   "metadata": {},
   "source": [
    "# Numpy"
   ]
  },
  {
   "cell_type": "markdown",
   "metadata": {},
   "source": [
    "Python es un lenguaje de programación muy versátil y al mismo tiempo simple en cuanto a sintaxis. Sobre la base de este lenguaje se ha creado una variedad muy grande de aplicaciones que permiten efectuar de forma simple muchas operaciones que requerirían una gran cantidad de código.\n",
    "\n",
    "`numpy` es el paquete específico de programación científica desarrollado bajo Python, pero con estructuras en C, lo que le confiere velocidad de ejecución.\n",
    "\n",
    "Las ventajas de `numpy` son, fundamentalmente, dos:\n",
    "\n",
    "1. Es mucho más rápido que el núcleo de Python puesto que está precompilado en C.\n",
    "2. Es vectorizable en el sentido de que podemos tratar a un grupo de datos con la facilidad de una variable, lo que permite desarrollar programas compactos y eficientes.\n",
    "\n",
    "Para usar el paquete `numpy` debemos de importarlo. Lo hacemos con el alias `np`.\n",
    "\n",
    "La herramienta fundamental de `numpy` son los `ndarrays`, a los que nos refereriremos como arrays. \n",
    "\n",
    "Veamos algunos ejemplos de cómo trabajan los arrays, en comparación con las listas de Python:"
   ]
  },
  {
   "cell_type": "code",
   "execution_count": 1,
   "metadata": {
    "collapsed": true
   },
   "outputs": [],
   "source": [
    "import numpy as np\n",
    "a1=[1,2,3]  # lista\n",
    "a2=[4,5,6]  # lista\n",
    "b1=np.array([1,2,3])  # array de numpy\n",
    "b2=np.array([4,5,6])  # array de numpy"
   ]
  },
  {
   "cell_type": "code",
   "execution_count": 2,
   "metadata": {},
   "outputs": [
    {
     "data": {
      "text/plain": [
       "[1, 2, 3, 4, 5, 6]"
      ]
     },
     "execution_count": 2,
     "metadata": {},
     "output_type": "execute_result"
    }
   ],
   "source": [
    "a1+a2  # Sumamos dos listas"
   ]
  },
  {
   "cell_type": "code",
   "execution_count": 3,
   "metadata": {},
   "outputs": [
    {
     "data": {
      "text/plain": [
       "array([5, 7, 9])"
      ]
     },
     "execution_count": 3,
     "metadata": {},
     "output_type": "execute_result"
    }
   ],
   "source": [
    "b1+b2  # Sumamos dos arrays"
   ]
  },
  {
   "cell_type": "code",
   "execution_count": 4,
   "metadata": {},
   "outputs": [
    {
     "data": {
      "text/plain": [
       "array([1, 4, 9])"
      ]
     },
     "execution_count": 4,
     "metadata": {},
     "output_type": "execute_result"
    }
   ],
   "source": [
    "b1**2  # Un array elevado al cuadrado"
   ]
  },
  {
   "cell_type": "markdown",
   "metadata": {},
   "source": [
    "También es posible aplicar funciones a un array haciendo que la función se aplique a cada elemento:"
   ]
  },
  {
   "cell_type": "code",
   "execution_count": 5,
   "metadata": {},
   "outputs": [
    {
     "name": "stdout",
     "output_type": "stream",
     "text": [
      "[ 1.          1.41421356  1.73205081]\n",
      "[  54.59815003  148.4131591   403.42879349]\n"
     ]
    }
   ],
   "source": [
    "print(np.sqrt(b1))  \n",
    "print(np.exp(b2))"
   ]
  },
  {
   "cell_type": "markdown",
   "metadata": {},
   "source": [
    "Vemos que el comportamiento de una lista de Python y de un array de numpy es diferente. Se trata de objetos diferentes y por eso hay que incluir en la definición del array el alias del paquete, `np` en este caso.\n",
    "\n",
    "Las listas de Python se consideran como conjunto ordenado de objetos y por tanto al sumar dos listas se añaden. Sin embargo, los arrays son estructuras más próximas a los conceptos matemáticos de vectores y matrices."
   ]
  },
  {
   "cell_type": "markdown",
   "metadata": {},
   "source": [
    "## Creación de arrays"
   ]
  },
  {
   "cell_type": "markdown",
   "metadata": {},
   "source": [
    "Un array es equivalente en forma a las listas de Python pero, a diferencia de estas, solo puede contener un tipo de datos. \n",
    "Pueden tener dimensiones, denominadas `axes` y definidas por su rango, `rank`.\n",
    "\n",
    "Se crea con la orden `np.array(lista,dtype=tipo)`, donde `lista` es una lista, con o sin múltiples sublistas, y `tipo` indica el tipo de elementos que lo componen: `int`, `float`,  `complex`. Por defecto es `float`.\n",
    "\n",
    "Si hay mezcla de tipos, se pasa todos los elementos al tipo superior. Con el argumento `dtype` especificamos el tipo."
   ]
  },
  {
   "cell_type": "code",
   "execution_count": 6,
   "metadata": {
    "collapsed": true
   },
   "outputs": [],
   "source": [
    "a1=np.array([1,2,3])\n",
    "a2=np.array([1.,2,3])\n",
    "a3=np.array([1.,2,3],dtype=complex)"
   ]
  },
  {
   "cell_type": "markdown",
   "metadata": {},
   "source": [
    "Se puede crear un array con ceros, unos o con números aleatorios: `np.zeros((shape))`, `np.ones((shape))`, `np.empty((shape))`, donde `shape` es la forma que se le quiera dar: 2x3, 4x5, ...\n",
    "\n",
    "Se puede crear un array nuevo a partir de la forma de otro con `np.empty_like`, `np.zeros_like`, `np.ones_like`. Hereda el tipo a no ser que usemos el argumento `dtype`."
   ]
  },
  {
   "cell_type": "code",
   "execution_count": 7,
   "metadata": {
    "collapsed": true
   },
   "outputs": [],
   "source": [
    "a= np.array([1,2,3,4])  # A partir de la lista\n",
    "b= np.zeros((3,2))  # 3 filas y  2 columnas, con ceros \n",
    "c= np.ones((2,2)) # 2 filas y 2 columnas con unos\n",
    "# 2 filas y 3 columnas con valores arbitrarios\n",
    "d= np.empty((2,3))  \n",
    "e= np.zeros_like(d,dtype=int)"
   ]
  },
  {
   "cell_type": "code",
   "execution_count": 8,
   "metadata": {},
   "outputs": [
    {
     "name": "stdout",
     "output_type": "stream",
     "text": [
      "[[ 1.  1.]\n",
      " [ 1.  1.]]\n"
     ]
    }
   ],
   "source": [
    "print(c)"
   ]
  },
  {
   "cell_type": "code",
   "execution_count": 9,
   "metadata": {},
   "outputs": [
    {
     "name": "stdout",
     "output_type": "stream",
     "text": [
      "[[0 0 0]\n",
      " [0 0 0]]\n"
     ]
    }
   ],
   "source": [
    "print(e)"
   ]
  },
  {
   "cell_type": "markdown",
   "metadata": {},
   "source": [
    "La definición de cada elemento es `b[i,j]`, a diferencia de las listas donde es `b[i][j]`.\n",
    "\n",
    "Tiene los siguientes atributos: `ndim, shape, size, dtype, itemsize, data`."
   ]
  },
  {
   "cell_type": "code",
   "execution_count": 10,
   "metadata": {},
   "outputs": [
    {
     "name": "stdout",
     "output_type": "stream",
     "text": [
      "1\n",
      "(3, 2)\n",
      "4\n",
      "float64\n",
      "8\n",
      "<memory at 0x110b13f48>\n"
     ]
    }
   ],
   "source": [
    "print(a.ndim)\n",
    "print(b.shape)\n",
    "print(c.size)\n",
    "print(d.dtype)\n",
    "print(e.itemsize)\n",
    "print(a.data)"
   ]
  },
  {
   "cell_type": "markdown",
   "metadata": {},
   "source": [
    "## Inicialización de un array"
   ]
  },
  {
   "cell_type": "markdown",
   "metadata": {},
   "source": [
    "Con `np.arange(ini,fin,paso)` y con `np.linspace(ini,fin,num)`. Este último crea real.\n",
    "\n",
    "A partir de una función con `np.fromfunction(fun,dim)`.\n",
    "\n",
    "Utiliza los tipos `np.nan` y `np.inf`."
   ]
  },
  {
   "cell_type": "code",
   "execution_count": 11,
   "metadata": {},
   "outputs": [
    {
     "name": "stdout",
     "output_type": "stream",
     "text": [
      "[2 4 6]\n",
      "[ 2.  4.  6.  8.]\n",
      "[[ 0.  1.  4.]\n",
      " [ 1.  2.  5.]]\n"
     ]
    }
   ],
   "source": [
    "a= np.arange(2,8,2)\n",
    "print(a)\n",
    "b= np.linspace(2,8,4)\n",
    "print(b)\n",
    "def f(x,y):\n",
    "    return x**2+y**2\n",
    "c=np.fromfunction(f,(2,3))\n",
    "print(c)"
   ]
  },
  {
   "cell_type": "markdown",
   "metadata": {},
   "source": [
    "## Cambiando la forma de un array"
   ]
  },
  {
   "cell_type": "markdown",
   "metadata": {},
   "source": [
    "* `.reshape(dim)` genera una vista del array con la forma cambiada. El índice -1 sirve para indicar que rellene condicionado al otro índice.\n",
    "* `.transpose()` o simplemente `.T` genera una vista con el transpuesto. En el caso unidimensional genera el mismo.\n",
    "* `.ravel()` genera una vista plana del array.\n",
    "* `.flatten()` genera una copia plana del array "
   ]
  },
  {
   "cell_type": "code",
   "execution_count": 12,
   "metadata": {},
   "outputs": [
    {
     "name": "stdout",
     "output_type": "stream",
     "text": [
      "a= [0 1 2 3 4 5 6 7 8 9]\n",
      "b= [[0 1 2 3 4]\n",
      " [5 6 7 8 9]]\n",
      "a= [10  1  2  3  4  5  6  7  8  9]\n",
      "b= [[10  1  2  3  4]\n",
      " [ 5  6  7  8  9]]\n",
      "b traspuesto= [[10  5]\n",
      " [ 1  6]\n",
      " [ 2  7]\n",
      " [ 3  8]\n",
      " [ 4  9]]\n",
      "c= [0 1 2 3 4 5 6 7 8 9]\n",
      "d= [10  1  2  3  4  5  6  7  8  9]\n"
     ]
    }
   ],
   "source": [
    "a= np.arange(10)\n",
    "b= a.reshape(2,5)\n",
    "c= a.flatten()\n",
    "d= a.ravel()\n",
    "print('a=',a)\n",
    "print('b=',b)\n",
    "a[0]=10\n",
    "print('a=',a)\n",
    "print('b=',b)\n",
    "print('b traspuesto=',b.T)\n",
    "print('c=',c)\n",
    "print('d=',d)"
   ]
  },
  {
   "cell_type": "markdown",
   "metadata": {},
   "source": [
    "## Seleccionando trozos de array"
   ]
  },
  {
   "cell_type": "code",
   "execution_count": 13,
   "metadata": {},
   "outputs": [
    {
     "name": "stdout",
     "output_type": "stream",
     "text": [
      "[1 6]\n",
      "[5 6 7 8 9]\n"
     ]
    }
   ],
   "source": [
    "print(b[:,1]) # La segunda columna\n",
    "print(b[1]) # Segunda fila"
   ]
  },
  {
   "cell_type": "markdown",
   "metadata": {},
   "source": [
    "## Lectura de ficheros"
   ]
  },
  {
   "cell_type": "markdown",
   "metadata": {},
   "source": [
    "La lectura de un fichero de números es inmediata con numpy:"
   ]
  },
  {
   "cell_type": "code",
   "execution_count": 14,
   "metadata": {
    "collapsed": true
   },
   "outputs": [],
   "source": [
    "import numpy as np\n",
    "lectura=np.genfromtxt('kk2.txt',delimiter=',')"
   ]
  },
  {
   "cell_type": "code",
   "execution_count": 15,
   "metadata": {},
   "outputs": [
    {
     "name": "stdout",
     "output_type": "stream",
     "text": [
      "<class 'numpy.ndarray'> 3000 (1000, 3)\n",
      "[ 2.  4.  8.]\n"
     ]
    }
   ],
   "source": [
    "print(type(lectura), lectura.size,lectura.shape)\n",
    "print(lectura[1])"
   ]
  },
  {
   "cell_type": "markdown",
   "metadata": {},
   "source": [
    "Numpy lee el fichero y genera un array."
   ]
  },
  {
   "cell_type": "markdown",
   "metadata": {},
   "source": [
    "Para escribir y leer un array de `numpy` a un fichero en forma binaria (e independiente de la plataforma) se usan los métodos `np.save('fichero.npy', array)` y `np.load('fichero.npy')`. \n",
    "Es también posible escribir una serie de arrays y luego leerlos con la misma estructura."
   ]
  },
  {
   "cell_type": "code",
   "execution_count": 16,
   "metadata": {},
   "outputs": [
    {
     "name": "stdout",
     "output_type": "stream",
     "text": [
      "[[10  1  2  3  4]\n",
      " [ 5  6  7  8  9]]\n"
     ]
    }
   ],
   "source": [
    "np.save('kk.npy',b)\n",
    "bleido=np.load('kk.npy')\n",
    "print(bleido)"
   ]
  }
 ],
 "metadata": {
  "kernelspec": {
   "display_name": "Python 3",
   "language": "python",
   "name": "python3"
  },
  "language_info": {
   "codemirror_mode": {
    "name": "ipython",
    "version": 3
   },
   "file_extension": ".py",
   "mimetype": "text/x-python",
   "name": "python",
   "nbconvert_exporter": "python",
   "pygments_lexer": "ipython3",
   "version": "3.6.0"
  }
 },
 "nbformat": 4,
 "nbformat_minor": 2
}
